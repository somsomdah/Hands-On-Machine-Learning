{
  "nbformat": 4,
  "nbformat_minor": 0,
  "metadata": {
    "colab": {
      "name": "1_voting_classifier",
      "provenance": []
    },
    "kernelspec": {
      "name": "python3",
      "display_name": "Python 3"
    }
  },
  "cells": [
    {
      "cell_type": "code",
      "metadata": {
        "id": "PHvdgvSoBQvv",
        "colab_type": "code",
        "colab": {}
      },
      "source": [
        "import numpy as np\n",
        "import matplotlib.pyplot as plt"
      ],
      "execution_count": 0,
      "outputs": []
    },
    {
      "cell_type": "code",
      "metadata": {
        "id": "6WNBqv-60hP5",
        "colab_type": "code",
        "colab": {}
      },
      "source": [
        "from sklearn.model_selection import train_test_split\n",
        "from sklearn.datasets import make_moons\n",
        "\n",
        "X, y = make_moons(n_samples=500, noise=0.30, random_state=42)\n",
        "X_train, X_test, y_train, y_test = train_test_split(X, y, random_state=42)"
      ],
      "execution_count": 0,
      "outputs": []
    },
    {
      "cell_type": "markdown",
      "metadata": {
        "id": "dxjutaXPCJC0",
        "colab_type": "text"
      },
      "source": [
        "# 1. voting classifier"
      ]
    },
    {
      "cell_type": "code",
      "metadata": {
        "id": "_mFFzAq9BYvR",
        "colab_type": "code",
        "outputId": "df0deae1-6e78-4cdc-d159-0269fd0fc099",
        "colab": {
          "base_uri": "https://localhost:8080/",
          "height": 474
        }
      },
      "source": [
        "from sklearn.ensemble import RandomForestClassifier\n",
        "from sklearn.ensemble import VotingClassifier\n",
        "from sklearn.linear_model import LogisticRegression\n",
        "from sklearn.svm import SVC\n",
        "\n",
        "log_clf = LogisticRegression(solver='liblinear', random_state=42)\n",
        "rnd_clf = RandomForestClassifier(n_estimators=10, random_state=42)\n",
        "svm_clf = SVC(gamma='auto', random_state=42)\n",
        "\n",
        "voting_clf = VotingClassifier(\n",
        "    estimators=[('lr', log_clf), ('rf', rnd_clf), ('svc', svm_clf)],\n",
        "    voting='hard')\n",
        "voting_clf.fit(X_train, y_train)"
      ],
      "execution_count": 0,
      "outputs": [
        {
          "output_type": "execute_result",
          "data": {
            "text/plain": [
              "VotingClassifier(estimators=[('lr',\n",
              "                              LogisticRegression(C=1.0, class_weight=None,\n",
              "                                                 dual=False, fit_intercept=True,\n",
              "                                                 intercept_scaling=1,\n",
              "                                                 l1_ratio=None, max_iter=100,\n",
              "                                                 multi_class='auto',\n",
              "                                                 n_jobs=None, penalty='l2',\n",
              "                                                 random_state=42,\n",
              "                                                 solver='liblinear', tol=0.0001,\n",
              "                                                 verbose=0, warm_start=False)),\n",
              "                             ('rf',\n",
              "                              RandomForestClassifier(bootstrap=True,\n",
              "                                                     ccp_alpha=0.0,\n",
              "                                                     class_weight=None,...\n",
              "                                                     oob_score=False,\n",
              "                                                     random_state=42, verbose=0,\n",
              "                                                     warm_start=False)),\n",
              "                             ('svc',\n",
              "                              SVC(C=1.0, break_ties=False, cache_size=200,\n",
              "                                  class_weight=None, coef0=0.0,\n",
              "                                  decision_function_shape='ovr', degree=3,\n",
              "                                  gamma='auto', kernel='rbf', max_iter=-1,\n",
              "                                  probability=False, random_state=42,\n",
              "                                  shrinking=True, tol=0.001, verbose=False))],\n",
              "                 flatten_transform=True, n_jobs=None, voting='hard',\n",
              "                 weights=None)"
            ]
          },
          "metadata": {
            "tags": []
          },
          "execution_count": 3
        }
      ]
    },
    {
      "cell_type": "code",
      "metadata": {
        "id": "XVunY3liB3J1",
        "colab_type": "code",
        "outputId": "9277222b-bce7-49fe-81d7-b384cdd5f9ab",
        "colab": {
          "base_uri": "https://localhost:8080/",
          "height": 87
        }
      },
      "source": [
        "from sklearn.metrics import accuracy_score\n",
        "\n",
        "for clf in (log_clf, rnd_clf, svm_clf, voting_clf):\n",
        "    clf.fit(X_train, y_train)\n",
        "    y_pred = clf.predict(X_test)\n",
        "    print(clf.__class__.__name__, accuracy_score(y_test, y_pred))"
      ],
      "execution_count": 0,
      "outputs": [
        {
          "output_type": "stream",
          "text": [
            "LogisticRegression 0.864\n",
            "RandomForestClassifier 0.872\n",
            "SVC 0.888\n",
            "VotingClassifier 0.896\n"
          ],
          "name": "stdout"
        }
      ]
    },
    {
      "cell_type": "markdown",
      "metadata": {
        "id": "wvpiTqs-CNda",
        "colab_type": "text"
      },
      "source": [
        "# 2. Bagging & Pasting"
      ]
    },
    {
      "cell_type": "code",
      "metadata": {
        "id": "uGLa5hc0B_Jo",
        "colab_type": "code",
        "colab": {}
      },
      "source": [
        "from sklearn.ensemble import BaggingClassifier\n",
        "from sklearn.tree import DecisionTreeClassifier\n",
        "\n",
        "bag_clf = BaggingClassifier(\n",
        "    DecisionTreeClassifier(random_state=42), n_estimators=500,\n",
        "    max_samples=100, bootstrap=True, n_jobs=-1, oob_score=True, random_state=42)\n",
        "bag_clf.fit(X_train, y_train)\n",
        "y_pred = bag_clf.predict(X_test)"
      ],
      "execution_count": 0,
      "outputs": []
    },
    {
      "cell_type": "code",
      "metadata": {
        "id": "k4GkL95MCw4W",
        "colab_type": "code",
        "outputId": "5195cab7-9d5a-4f87-ce44-1d36d0d296c1",
        "colab": {
          "base_uri": "https://localhost:8080/",
          "height": 34
        }
      },
      "source": [
        "bag_clf.oob_score_"
      ],
      "execution_count": 0,
      "outputs": [
        {
          "output_type": "execute_result",
          "data": {
            "text/plain": [
              "0.9253333333333333"
            ]
          },
          "metadata": {
            "tags": []
          },
          "execution_count": 4
        }
      ]
    },
    {
      "cell_type": "code",
      "metadata": {
        "id": "VuQdR8dDFb2I",
        "colab_type": "code",
        "outputId": "183aec20-943b-4911-dcee-5c660a944847",
        "colab": {
          "base_uri": "https://localhost:8080/",
          "height": 193
        }
      },
      "source": [
        "bag_clf.oob_decision_function_[:10] # oob sample 의 각 class 에 대한 score"
      ],
      "execution_count": 0,
      "outputs": [
        {
          "output_type": "execute_result",
          "data": {
            "text/plain": [
              "array([[0.35849057, 0.64150943],\n",
              "       [0.43513514, 0.56486486],\n",
              "       [1.        , 0.        ],\n",
              "       [0.0128866 , 0.9871134 ],\n",
              "       [0.03174603, 0.96825397],\n",
              "       [0.07928389, 0.92071611],\n",
              "       [0.4027027 , 0.5972973 ],\n",
              "       [0.06703911, 0.93296089],\n",
              "       [0.92950392, 0.07049608],\n",
              "       [0.88461538, 0.11538462]])"
            ]
          },
          "metadata": {
            "tags": []
          },
          "execution_count": 14
        }
      ]
    },
    {
      "cell_type": "code",
      "metadata": {
        "id": "Vq0POZ52CXjI",
        "colab_type": "code",
        "outputId": "14389d9d-b8a1-45f5-9ef3-e5957f22eafa",
        "colab": {
          "base_uri": "https://localhost:8080/",
          "height": 34
        }
      },
      "source": [
        "accuracy_score(y_test, y_pred)"
      ],
      "execution_count": 0,
      "outputs": [
        {
          "output_type": "execute_result",
          "data": {
            "text/plain": [
              "0.904"
            ]
          },
          "metadata": {
            "tags": []
          },
          "execution_count": 12
        }
      ]
    },
    {
      "cell_type": "code",
      "metadata": {
        "id": "6RULvpurZNr3",
        "colab_type": "code",
        "colab": {}
      },
      "source": [
        ""
      ],
      "execution_count": 0,
      "outputs": []
    },
    {
      "cell_type": "code",
      "metadata": {
        "id": "qJULPA5oZNuD",
        "colab_type": "code",
        "colab": {}
      },
      "source": [
        "# Bagging\n",
        "bagging_clf = BaggingClassifier(\n",
        "    DecisionTreeClassifier(random_state=42),n_estimators=10,\n",
        "    max_samples=0.1,max_features=1.0, bootstrap=True, bootstrap_features=True)"
      ],
      "execution_count": 0,
      "outputs": []
    },
    {
      "cell_type": "code",
      "metadata": {
        "id": "oS2WLXoIZNwN",
        "colab_type": "code",
        "colab": {}
      },
      "source": [
        "# Pasting\n",
        "pasting_clf = BaggingClassifier(\n",
        "    DecisionTreeClassifier(random_state=42),n_estimators=10,\n",
        "    max_samples=0.1,max_features=1.0, bootstrap=False,bootstrap_features=True)"
      ],
      "execution_count": 0,
      "outputs": []
    },
    {
      "cell_type": "code",
      "metadata": {
        "id": "BUCoiPivZNyV",
        "colab_type": "code",
        "colab": {}
      },
      "source": [
        "# Random Subspaces Method\n",
        "random_subspace_clf = BaggingClassifier(\n",
        "    DecisionTreeClassifier(random_state=42), n_estimators=10,\n",
        "    max_samples=1.0,max_features=0.5, bootstrap=False,bootstrap_features=True)"
      ],
      "execution_count": 0,
      "outputs": []
    },
    {
      "cell_type": "code",
      "metadata": {
        "id": "YHcTaIm1ZhD4",
        "colab_type": "code",
        "colab": {}
      },
      "source": [
        "# Random Patches Method\n",
        "random_patches_clf = BaggingClassifier(\n",
        "    DecisionTreeClassifier(random_state=42), n_estimators=10,\n",
        "    max_samples=0.1,max_features=0.5, bootstrap=True,,bootstrap_features=True)"
      ],
      "execution_count": 0,
      "outputs": []
    },
    {
      "cell_type": "markdown",
      "metadata": {
        "id": "180dpYqtFneE",
        "colab_type": "text"
      },
      "source": [
        "# 3. RandomForest Classifier"
      ]
    },
    {
      "cell_type": "code",
      "metadata": {
        "id": "TSjPS7yOFAlo",
        "colab_type": "code",
        "outputId": "64a6e6c9-36f8-44b4-aba9-14ca7d363f73",
        "colab": {
          "base_uri": "https://localhost:8080/",
          "height": 34
        }
      },
      "source": [
        "bag_clf_rf=BaggingClassifier(\n",
        "    DecisionTreeClassifier(splitter=\"random\",max_leaf_nodes=16,random_state=42),\n",
        "    n_estimators=500,max_samples=1.0,bootstrap=True,n_jobs=-1,random_state=42\n",
        ")\n",
        "\n",
        "bag_clf_rf.fit(X_train, y_train)\n",
        "y_pred = bag_clf.predict(X_test)\n",
        "accuracy_score(y_test, y_pred)"
      ],
      "execution_count": 0,
      "outputs": [
        {
          "output_type": "execute_result",
          "data": {
            "text/plain": [
              "0.904"
            ]
          },
          "metadata": {
            "tags": []
          },
          "execution_count": 30
        }
      ]
    },
    {
      "cell_type": "code",
      "metadata": {
        "id": "WbazoLlrD8g6",
        "colab_type": "code",
        "outputId": "078a2663-e07b-4881-896b-79574765eecf",
        "colab": {
          "base_uri": "https://localhost:8080/",
          "height": 34
        }
      },
      "source": [
        "from sklearn.ensemble import RandomForestClassifier\n",
        "\n",
        "rnd_clf = RandomForestClassifier(n_estimators=500, max_leaf_nodes=16, n_jobs=-1, random_state=42)\n",
        "\n",
        "rnd_clf.fit(X_train, y_train)\n",
        "y_pred_rf = rnd_clf.predict(X_test)\n",
        "accuracy_score(y_test, y_pred_rf)"
      ],
      "execution_count": 0,
      "outputs": [
        {
          "output_type": "execute_result",
          "data": {
            "text/plain": [
              "0.912"
            ]
          },
          "metadata": {
            "tags": []
          },
          "execution_count": 31
        }
      ]
    },
    {
      "cell_type": "code",
      "metadata": {
        "id": "1ewRt1EPCkXl",
        "colab_type": "code",
        "outputId": "972efa64-3bb2-480e-cb1d-5dd0467ea347",
        "colab": {
          "base_uri": "https://localhost:8080/",
          "height": 34
        }
      },
      "source": [
        "rnd_clf.feature_importances_"
      ],
      "execution_count": 0,
      "outputs": [
        {
          "output_type": "execute_result",
          "data": {
            "text/plain": [
              "array([0.42253629, 0.57746371])"
            ]
          },
          "metadata": {
            "tags": []
          },
          "execution_count": 27
        }
      ]
    },
    {
      "cell_type": "code",
      "metadata": {
        "id": "D_qA__9PJbY0",
        "colab_type": "code",
        "outputId": "62d9bb97-7778-4c80-e047-e4d10e7212d2",
        "colab": {
          "base_uri": "https://localhost:8080/",
          "height": 34
        }
      },
      "source": [
        "from sklearn.ensemble import ExtraTreesClassifier\n",
        "\n",
        "ext_clf = ExtraTreesClassifier(n_estimators=500, max_leaf_nodes=16, n_jobs=-1, random_state=42)\n",
        "\n",
        "ext_clf.fit(X_train, y_train)\n",
        "y_pred_ext = rnd_clf.predict(X_test)\n",
        "accuracy_score(y_test, y_pred_ext)"
      ],
      "execution_count": 0,
      "outputs": [
        {
          "output_type": "execute_result",
          "data": {
            "text/plain": [
              "0.912"
            ]
          },
          "metadata": {
            "tags": []
          },
          "execution_count": 32
        }
      ]
    },
    {
      "cell_type": "code",
      "metadata": {
        "id": "asxytXbNKhHQ",
        "colab_type": "code",
        "outputId": "1ec61677-8f44-47c9-d9ed-53ec9098dd38",
        "colab": {
          "base_uri": "https://localhost:8080/",
          "height": 34
        }
      },
      "source": [
        "rnd_clf.feature_importances_"
      ],
      "execution_count": 0,
      "outputs": [
        {
          "output_type": "execute_result",
          "data": {
            "text/plain": [
              "array([0.42253629, 0.57746371])"
            ]
          },
          "metadata": {
            "tags": []
          },
          "execution_count": 33
        }
      ]
    }
  ]
}