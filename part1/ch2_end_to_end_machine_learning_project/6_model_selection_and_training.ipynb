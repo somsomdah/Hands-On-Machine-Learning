{
 "cells": [
  {
   "cell_type": "markdown",
   "metadata": {},
   "source": [
    "# 2.6 모델 선택과 훈련"
   ]
  },
  {
   "cell_type": "code",
   "execution_count": 50,
   "metadata": {},
   "outputs": [],
   "source": [
    "import matplotlib.pyplot as plt\n",
    "import pandas as pd\n",
    "import numpy as np"
   ]
  },
  {
   "cell_type": "code",
   "execution_count": 51,
   "metadata": {},
   "outputs": [
    {
     "name": "stdout",
     "output_type": "stream",
     "text": [
      "(16512,)\n",
      "(16512, 17)\n"
     ]
    }
   ],
   "source": [
    "#load_data\n",
    "housing_prepared=np.load(\"datasets/housing/housing_prepared.npy\")\n",
    "housing_labels=pd.read_csv(\"datasets/housing/housing_labels.csv\",usecols=[1],squeeze=True)\n",
    "print(housing_labels.shape)\n",
    "print(housing_prepared.shape)"
   ]
  },
  {
   "cell_type": "markdown",
   "metadata": {},
   "source": [
    "### 2.6.1 훈련 세트에서 훈련하고 평가하기"
   ]
  },
  {
   "cell_type": "code",
   "execution_count": 57,
   "metadata": {},
   "outputs": [
    {
     "name": "stderr",
     "output_type": "stream",
     "text": [
      "C:\\Users\\DASOM\\Anaconda3\\lib\\site-packages\\sklearn\\ensemble\\forest.py:245: FutureWarning: The default value of n_estimators will change from 10 in version 0.20 to 100 in 0.22.\n",
      "  \"10 in version 0.20 to 100 in 0.22.\", FutureWarning)\n"
     ]
    }
   ],
   "source": [
    "from sklearn.linear_model import LinearRegression \n",
    "from sklearn.tree import DecisionTreeRegressor\n",
    "from sklearn.ensemble import RandomForestRegressor\n",
    "\n",
    "lin_reg=LinearRegression()\n",
    "lin_reg.fit(housing_prepared,housing_labels)\n",
    "lin_reg_predictions=lin_reg.predict(housing_prepared)\n",
    "\n",
    "tree_reg=DecisionTreeRegressor()\n",
    "tree_reg.fit(housing_prepared,housing_labels)\n",
    "tree_reg_predictions=tree_reg.predict(housing_prepared)\n",
    "\n",
    "forest_reg=RandomForestRegressor()\n",
    "forest_reg.fit(housing_prepared,housing_labels)\n",
    "forest_reg_predictions=forest_reg.predict(housing_prepared)"
   ]
  },
  {
   "cell_type": "code",
   "execution_count": 58,
   "metadata": {},
   "outputs": [],
   "source": [
    "from sklearn.metrics import mean_squared_error\n",
    "def rmse(labels,predictions):\n",
    "    mse=mean_squared_error(labels,predictions)\n",
    "    rmse=np.sqrt(mse)\n",
    "    return rmse"
   ]
  },
  {
   "cell_type": "code",
   "execution_count": 60,
   "metadata": {},
   "outputs": [
    {
     "name": "stdout",
     "output_type": "stream",
     "text": [
      "68376.64295459937\n",
      "0.0\n",
      "22388.060211916665\n"
     ]
    }
   ],
   "source": [
    "lin_rmse=rmse(housing_labels,lin_reg_predictions)\n",
    "tree_rmse=rmse(housing_labels,tree_reg_predictions)\n",
    "forest_rmse=rmse(housing_labels,forest_reg_predictions)\n",
    "\n",
    "print(lin_rmse) # underfitting\n",
    "print(tree_rmse) # overfitting\n",
    "print(forest_rmse)"
   ]
  },
  {
   "cell_type": "markdown",
   "metadata": {},
   "source": [
    "### 2. K-fold cross validation (교차검증)\n",
    "- 훈련 세트를 폴드(fold)라고 불리는 n개의 서브셋으로 무작위 분할한다\n",
    "- 매번 다른 폴드를 선택해 모델 평가에 사용하고 나머지 n-1개의 폴드는 훈련에 사용한다\n",
    "- 교차검증은 비용함수가 아닌 효용함수를 사용한다"
   ]
  },
  {
   "cell_type": "code",
   "execution_count": 55,
   "metadata": {},
   "outputs": [
    {
     "name": "stdout",
     "output_type": "stream",
     "text": [
      "scores : [-4.61739504e+09 -4.56945629e+09 -5.03247738e+09 -4.91646647e+09\n",
      " -5.11580598e+09 -5.63734174e+09 -5.03274149e+09 -4.97185904e+09\n",
      " -5.90143706e+09 -4.81286440e+09]\n",
      "mean : -5060784491.154368\n",
      "standard deviation : 396475406.8140609\n"
     ]
    }
   ],
   "source": [
    "from sklearn.model_selection import cross_val_score\n",
    "# 모델 객체, X, y, 점수 측정 방법, k 값(?)\n",
    "scores=cross_val_score(tree_reg,housing_prepared,housing_labels,scoring=\"neg_mean_squared_error\",cv=10)\n",
    "\n",
    "print(\"scores :\",scores) #???? 결과 왜 저럼??????????\n",
    "print(\"mean :\",scores.mean()) \n",
    "print(\"standard deviation :\",scores.std())"
   ]
  },
  {
   "cell_type": "code",
   "execution_count": 56,
   "metadata": {},
   "outputs": [
    {
     "name": "stdout",
     "output_type": "stream",
     "text": [
      "scores : [-4.47260312e+09 -4.43664168e+09 -4.98095924e+09 -5.50266468e+09\n",
      " -4.58103208e+09 -5.05566056e+09 -4.19679290e+09 -4.58482007e+09\n",
      " -5.05242395e+09 -4.58161640e+09]\n",
      "mean : -4744521469.218297\n",
      "standard deviation : 370108489.77107966\n"
     ]
    }
   ],
   "source": [
    "scores_lin=cross_val_score(lin_reg,housing_prepared,housing_labels,scoring=\"neg_mean_squared_error\",cv=10)\n",
    "print(\"scores :\",scores_lin) #???? 결과 왜 저럼??????????\n",
    "print(\"mean :\",scores_lin.mean()) \n",
    "print(\"standard deviation :\",scores_lin.std())"
   ]
  },
  {
   "cell_type": "code",
   "execution_count": 61,
   "metadata": {},
   "outputs": [
    {
     "name": "stdout",
     "output_type": "stream",
     "text": [
      "scores : [-2.57683883e+09 -2.46230166e+09 -2.73269124e+09 -3.00517216e+09\n",
      " -2.75587436e+09 -3.20342040e+09 -2.61947411e+09 -2.59644064e+09\n",
      " -3.02088520e+09 -2.73779656e+09]\n",
      "mean : -2771089516.4991674\n",
      "standard deviation : 222146266.51709998\n"
     ]
    }
   ],
   "source": [
    "scores_forest=cross_val_score(forest_reg,housing_prepared,housing_labels,scoring=\"neg_mean_squared_error\",cv=10)\n",
    "print(\"scores :\",scores_forest) #???? 결과 왜 저럼??????????\n",
    "print(\"mean :\",scores_forest.mean()) \n",
    "print(\"standard deviation :\",scores_forest.std())"
   ]
  },
  {
   "cell_type": "markdown",
   "metadata": {},
   "source": []
  }
 ],
 "metadata": {
  "kernelspec": {
   "display_name": "Python 3",
   "language": "python",
   "name": "python3"
  },
  "language_info": {
   "codemirror_mode": {
    "name": "ipython",
    "version": 3
   },
   "file_extension": ".py",
   "mimetype": "text/x-python",
   "name": "python",
   "nbconvert_exporter": "python",
   "pygments_lexer": "ipython3",
   "version": "3.6.9"
  }
 },
 "nbformat": 4,
 "nbformat_minor": 2
}
